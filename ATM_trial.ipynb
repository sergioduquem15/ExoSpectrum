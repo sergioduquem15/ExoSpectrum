{
 "cells": [
  {
   "cell_type": "code",
   "execution_count": 1,
   "metadata": {},
   "outputs": [],
   "source": [
    "import numpy as np # para aleatorio"
   ]
  },
  {
   "cell_type": "code",
   "execution_count": 2,
   "metadata": {},
   "outputs": [],
   "source": [
    "comp = ['CO2','N2','SO2','H2O','CO','He'] # Ejemplo de elementos"
   ]
  },
  {
   "cell_type": "code",
   "execution_count": 155,
   "metadata": {},
   "outputs": [],
   "source": [
    "def abundance(num,imin,imax):\n",
    "    l = []\n",
    "    suma = 0 # suma acumulativa (debe ser menor que 1.0)\n",
    "    while(suma < 0.98 and len(l) != num):\n",
    "        if len(l) == 0: # primer valor\n",
    "            r1 = np.random.rand()\n",
    "            if r1 > imin and r1 < imax : # debe ser un min < r1 < max, para controlar un valor con gran consentracion\n",
    "                l.append(r1)\n",
    "                suma += l[-1] # suma el primer elemento.\n",
    "        elif len(l) != 0: \n",
    "            r = np.random.randint(1,11) # selecciona un numero aleatorio entre 1 y 9\n",
    "            n = l[-1]/r # divide el ultimo numero entre ese numero aleatorio\n",
    "            if sum(l) + n < 1.0 and n != l[-1]: # es la suma de numeros creados mas este ultimo menor que 1?\n",
    "                #print(sum(l) + n)\n",
    "                l.append(n) # almacenar este numero\n",
    "                suma += n  # sumar el nuevo elemento\n",
    "    return l\n",
    "\n",
    "def corr_ab(num):\n",
    "    flag = False\n",
    "    while(flag == False): # a veces se obtiene sumas menores a 0.95 y listas menores a num\n",
    "        ab = abundance(num,0.65,0.90)\n",
    "        if len(ab) == num and sum(ab) > 0.95: # si el resultado tiene un valor mayor de 0.95 y un numero correcto de longitud\n",
    "            flag = True # se acepta\n",
    "    #print(sum(ab))\n",
    "    ab_corr = [str(format(elem,'.1E')) for elem in ab] # convierte en string y en notacion cientifica\n",
    "    return ab_corr\n"
   ]
  },
  {
   "cell_type": "code",
   "execution_count": 154,
   "metadata": {},
   "outputs": [],
   "source": [
    "comp4 = np.random.choice(comp,size=4,replace=False) # selecciona aleatoriamente 4 elementos de la lista de ejemplos\n",
    "abun4 = corr_ab(4) # llama la generacion de numeros.\n",
    "\n",
    "atm = \"atm_prod2.cfg\" # selecciona el doc a modificar\n",
    "def write(comp,abun):\n",
    "    cm = ' '.join(comp) # junta las listas en un string\n",
    "    ab = ' '.join(abun)\n",
    "    with open(atm,\"r\") as rd:\n",
    "        data = rd.readlines() # obtiene la lista de string por linea en el doc\n",
    "\n",
    "    data[22] = f'species = {cm}\\n' # sobreescribe los elementos por el seleccionado aleatoriamente\n",
    "    data[23] = f'uniform = {ab}\\n' # sobreescribe los porcentajes por los seleccionados aleatoriamente\n",
    "    conct = ''.join(data) # junta de nuevo toda la lista ya modificada\n",
    "\n",
    "    with open(\"atm_prod2.cfg\",\"w\") as wd: # escribe en el texto\n",
    "        wd.write(conct)\n",
    "\n",
    "write(comp4,abun4)"
   ]
  },
  {
   "cell_type": "code",
   "execution_count": null,
   "metadata": {},
   "outputs": [],
   "source": []
  }
 ],
 "metadata": {
  "kernelspec": {
   "display_name": "Python 3.9.12 ('base')",
   "language": "python",
   "name": "python3"
  },
  "language_info": {
   "codemirror_mode": {
    "name": "ipython",
    "version": 3
   },
   "file_extension": ".py",
   "mimetype": "text/x-python",
   "name": "python",
   "nbconvert_exporter": "python",
   "pygments_lexer": "ipython3",
   "version": "3.9.12"
  },
  "orig_nbformat": 4,
  "vscode": {
   "interpreter": {
    "hash": "88279d2366fe020547cde40dd65aa0e3aa662a6ec1f3ca12d88834876c85e1a6"
   }
  }
 },
 "nbformat": 4,
 "nbformat_minor": 2
}
