{
 "cells": [
  {
   "cell_type": "code",
   "metadata": {
    "cell_id": "1320e319-e353-416f-a8b0-8dbb75c16e2a",
    "deepnote_cell_type": "code",
    "deepnote_cell_height": 97
   },
   "source": "import numpy as np # para aleatorio\nfrom scipy.ndimage.filters import gaussian_filter1d as gaussf\nimport pandas as pd",
   "execution_count": 1,
   "outputs": []
  },
  {
   "cell_type": "code",
   "metadata": {
    "cell_id": "00001-005ea2ca-1662-4313-8653-739882750112",
    "deepnote_cell_type": "code",
    "deepnote_cell_height": 202.1875
   },
   "source": "import pyratbay as pb\nimport pyratbay.constants as pc",
   "execution_count": 2,
   "outputs": [
    {
     "ename": "ModuleNotFoundError",
     "evalue": "No module named 'pyratbay'",
     "output_type": "error",
     "traceback": [
      "\u001b[1;31m---------------------------------------------------------------------------\u001b[0m",
      "\u001b[1;31mModuleNotFoundError\u001b[0m                       Traceback (most recent call last)",
      "\u001b[1;32md:\\Fisica\\Github_projects\\ExoSpectrum\\ATM_trial.ipynb Celda 2\u001b[0m in \u001b[0;36m<cell line: 1>\u001b[1;34m()\u001b[0m\n\u001b[1;32m----> <a href='vscode-notebook-cell:/d%3A/Fisica/Github_projects/ExoSpectrum/ATM_trial.ipynb#W1sZmlsZQ%3D%3D?line=0'>1</a>\u001b[0m \u001b[39mimport\u001b[39;00m \u001b[39mpyratbay\u001b[39;00m \u001b[39mas\u001b[39;00m \u001b[39mpb\u001b[39;00m\n\u001b[0;32m      <a href='vscode-notebook-cell:/d%3A/Fisica/Github_projects/ExoSpectrum/ATM_trial.ipynb#W1sZmlsZQ%3D%3D?line=1'>2</a>\u001b[0m \u001b[39mimport\u001b[39;00m \u001b[39mpyratbay\u001b[39;00m\u001b[39m.\u001b[39;00m\u001b[39mconstants\u001b[39;00m \u001b[39mas\u001b[39;00m \u001b[39mpc\u001b[39;00m\n",
      "\u001b[1;31mModuleNotFoundError\u001b[0m: No module named 'pyratbay'"
     ]
    }
   ]
  },
  {
   "cell_type": "code",
   "source": "comp_no_bio = ['CO2','CO','H2O', 'CH4', 'N2'] # Elementos de firma no biologica\ncomp_bio = ['CH4', 'N2O', 'O3','CH3Cl'] # Elementos de firma biologica\natm = \"ATM/atm_prod.cfg\" # selecciona el doc a modificar",
   "metadata": {
    "cell_id": "00002-f5463964-0c3a-4464-8cf9-1ff2953fc8cd",
    "deepnote_cell_type": "code",
    "deepnote_cell_height": 97
   },
   "execution_count": 3,
   "outputs": []
  },
  {
   "cell_type": "code",
   "metadata": {
    "cell_id": "00003-4a0b7c2e-93cf-4215-be73-406ecc8ee303",
    "deepnote_cell_type": "code",
    "deepnote_cell_height": 97
   },
   "source": "spect = \"/work/ExoSpectrum/SPECTRUM/spectrum_transmission.cfg\"\nhitran = \"/work/ExoSpectrum/HITRAN/tli_hitran.cfg\"\natm = \"/work/ExoSpectrum/ATM/atm_prod.cfg\"",
   "execution_count": 62,
   "outputs": []
  },
  {
   "cell_type": "code",
   "metadata": {
    "cell_id": "00004-b82fc404-614f-403f-b953-0fc302268cd7",
    "deepnote_cell_type": "code",
    "deepnote_cell_height": 79
   },
   "source": "# ---- BD HITRAN ----\npyrat_hitran = pb.run(hitran)",
   "execution_count": null,
   "outputs": []
  },
  {
   "cell_type": "code",
   "metadata": {
    "cell_id": "00005-6f2fcc10-e71a-49b4-966d-b8e4858d16d4",
    "deepnote_cell_type": "code",
    "deepnote_cell_height": 187
   },
   "source": "def comp(number_bio,number_not_bio):\n    composition = []\n    comp_bio = ['H2', 'CH4', 'N2O', 'N2', 'O3', 'CH3Cl', 'N2O']\n    comp_no_bio = ['CO2', 'CO', 'H2O']\n    ch_bio = np.random.choice(comp_bio,size=number_bio,replace=False)\n    ch_nbio = np.random.choice(comp_no_bio,size=number_not_bio,replace=False)\n    composition = np.array([ [i,j] for i in ch_bio for j in ch_nbio])\n    return np.unique(composition.flatten())",
   "execution_count": 31,
   "outputs": []
  },
  {
   "cell_type": "code",
   "metadata": {
    "cell_id": "00006-8d7db6ef-78b0-45b4-80f5-616dc958c588",
    "deepnote_cell_type": "code",
    "deepnote_cell_height": 552
   },
   "source": "def abundance(num,imin,imax):\n    l = []\n    suma = 0 # suma acumulativa (debe ser menor que 1.0)\n    while(suma < 0.98 and len(l) != num):\n        if len(l) == 0: # primer valor\n            r1 = np.random.rand()\n            if r1 > imin and r1 < imax : # debe ser un min < r1 < max, para controlar un valor con gran concentracion\n                l.append(r1)\n                suma += l[-1] # suma el primer elemento.\n        elif len(l) != 0: \n            r = np.random.randint(1,11) # selecciona un numero aleatorio entre 1 y 10\n            n = l[-1]/r # divide el ultimo numero entre ese numero aleatorio\n            if (sum(l) + n) < 1.0 and n != l[-1]: # es la suma de numeros creados mas este ultimo menor que 1?\n                #print(sum(l) + n)\n                l.append(n) # almacenar este numero\n                suma += n  # sumar el nuevo elemento\n    return l\n\ndef corr_ab(num):\n    flag = False\n    while(flag == False): # a veces se obtiene sumas menores a 0.95 y listas menores a num\n        ab = abundance(num,0.85,0.90)\n        if len(ab) == num and sum(ab) > 0.95: # si el resultado tiene un valor mayor de 0.95 y un numero correcto de longitud\n            flag = True # se acepta\n    #print(sum(ab))\n    ab_corr = [str(format(elem,'.1E')) for elem in ab] # convierte en string y en notacion cientifica\n    return ab_corr\n",
   "execution_count": 36,
   "outputs": []
  },
  {
   "cell_type": "code",
   "metadata": {
    "cell_id": "00007-3491e7c6-c279-45b7-8918-67108d1ebb9a",
    "deepnote_cell_type": "code",
    "deepnote_cell_height": 277
   },
   "source": "def write(comp, abun):\n    cm = ' '.join(comp) # junta las listas en un string\n    ab = ' '.join(abun)\n    with open(atm,\"r\") as rd:\n        data = rd.readlines() # obtiene la lista de string por linea en el doc\n        \n    data[22] = f'species = H2 {cm}\\n' # sobreescribe los elementos por el seleccionado aleatoriamente\n    data[23] = f'uniform = {ab}\\n' # sobreescribe los porcentajes por los seleccionados aleatoriamente\n    conct = ''.join(data) # junta de nuevo toda la lista ya modificada\n\n    with open(\"ATM/atm_prod.cfg\",\"w\") as wd: # escribe en el texto\n        wd.write(conct)\n",
   "execution_count": 60,
   "outputs": []
  },
  {
   "cell_type": "code",
   "metadata": {
    "cell_id": "00008-2bd2bd08-81a7-4b82-9369-928a96dc848b",
    "deepnote_cell_type": "code",
    "deepnote_cell_height": 426
   },
   "source": "for i in range(1):\n    \n    # selecciona aleatoriamente 4 elementos de la lista de ejemplos (se tiene H2 por defecto como el más abundante)\n    comp4 = comp(3,1) # (numero comp biologicos, numero comp no biologicos)\n    abun4 = corr_ab(4) # llama la generacion de numeros.\n    \n    # Genera el archivo .atm\n    write(comp4,abun4)\n    \n    # --- atmósfera ----\n    pyrat_atm = pb.run(atm)\n    \n    # --- espectro ---\n    pyrat = pb.run(spect)\n    \n    wl = 1.0 / (pyrat.spec.wn*pc.um)\n    depth = pyrat.spec.spectrum / pc.percent\n    \n    df = pd.DataFrame({'wl': wl, 'p': depth})\n    df.to_csv(f\"Resultados/no_bio_{comp4}_{abun4}.txt\",sep=\"\\t\",index=None)\n    ",
   "execution_count": null,
   "outputs": []
  },
  {
   "cell_type": "code",
   "metadata": {
    "cell_id": "00009-1ce20713-f902-43cb-b3a4-5de848cacad8",
    "deepnote_cell_type": "code",
    "deepnote_cell_height": 61
   },
   "source": "",
   "execution_count": null,
   "outputs": []
  },
  {
   "cell_type": "markdown",
   "source": "<a style='text-decoration:none;line-height:16px;display:flex;color:#5B5B62;padding:10px;justify-content:end;' href='https://deepnote.com?utm_source=created-in-deepnote-cell&projectId=589cf5e2-2262-4138-b15b-c07c0b65a473' target=\"_blank\">\n<img alt='Created in deepnote.com' style='display:inline;max-height:16px;margin:0px;margin-right:7.5px;' src='data:image/svg+xml;base64,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' > </img>\nCreated in <span style='font-weight:600;margin-left:4px;'>Deepnote</span></a>",
   "metadata": {
    "tags": [],
    "created_in_deepnote_cell": true,
    "deepnote_cell_type": "markdown"
   }
  }
 ],
 "nbformat": 4,
 "nbformat_minor": 2,
 "metadata": {
  "kernelspec": {
   "display_name": "Python 3.9.12 ('base')",
   "language": "python",
   "name": "python3"
  },
  "language_info": {
   "codemirror_mode": {
    "name": "ipython",
    "version": 3
   },
   "file_extension": ".py",
   "mimetype": "text/x-python",
   "name": "python",
   "nbconvert_exporter": "python",
   "pygments_lexer": "ipython3",
   "version": "3.9.12"
  },
  "vscode": {
   "interpreter": {
    "hash": "88279d2366fe020547cde40dd65aa0e3aa662a6ec1f3ca12d88834876c85e1a6"
   }
  },
  "deepnote_notebook_id": "225f5b7c-1efa-4ad1-8f66-a2a5517e6779",
  "deepnote": {},
  "deepnote_execution_queue": []
 }
}