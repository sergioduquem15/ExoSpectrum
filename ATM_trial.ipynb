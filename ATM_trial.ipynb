{
 "cells": [
  {
   "cell_type": "code",
   "execution_count": 1,
   "metadata": {},
   "outputs": [],
   "source": [
    "import numpy as np # para aleatorio\n",
    "from scipy.ndimage.filters import gaussian_filter1d as gaussf\n",
    "import pandas as pd"
   ]
  },
  {
   "cell_type": "code",
   "execution_count": 2,
   "metadata": {},
   "outputs": [
    {
     "ename": "ModuleNotFoundError",
     "evalue": "No module named 'pyratbay'",
     "output_type": "error",
     "traceback": [
      "\u001b[1;31m---------------------------------------------------------------------------\u001b[0m",
      "\u001b[1;31mModuleNotFoundError\u001b[0m                       Traceback (most recent call last)",
      "\u001b[1;32md:\\Fisica\\Github_projects\\ExoSpectrum\\ATM_trial.ipynb Celda 2\u001b[0m in \u001b[0;36m<cell line: 1>\u001b[1;34m()\u001b[0m\n\u001b[1;32m----> <a href='vscode-notebook-cell:/d%3A/Fisica/Github_projects/ExoSpectrum/ATM_trial.ipynb#W1sZmlsZQ%3D%3D?line=0'>1</a>\u001b[0m \u001b[39mimport\u001b[39;00m \u001b[39mpyratbay\u001b[39;00m \u001b[39mas\u001b[39;00m \u001b[39mpb\u001b[39;00m\n\u001b[0;32m      <a href='vscode-notebook-cell:/d%3A/Fisica/Github_projects/ExoSpectrum/ATM_trial.ipynb#W1sZmlsZQ%3D%3D?line=1'>2</a>\u001b[0m \u001b[39mimport\u001b[39;00m \u001b[39mpyratbay\u001b[39;00m\u001b[39m.\u001b[39;00m\u001b[39mconstants\u001b[39;00m \u001b[39mas\u001b[39;00m \u001b[39mpc\u001b[39;00m\n",
      "\u001b[1;31mModuleNotFoundError\u001b[0m: No module named 'pyratbay'"
     ]
    }
   ],
   "source": [
    "import pyratbay as pb\n",
    "import pyratbay.constants as pc"
   ]
  },
  {
   "cell_type": "code",
   "execution_count": 3,
   "metadata": {},
   "outputs": [],
   "source": [
    "comp_no_bio = ['CO2','CO','H2O', 'CH4', 'N2'] # Elementos de firma no biologica\n",
    "comp_bio = ['H2O', 'CH4', 'N2O', 'N2', 'O3','CH3Cl', 'N2O'] # Elementos de firma biologica\n",
    "atm = \"ATM/atm_prod.cfg\" # selecciona el doc a modificar"
   ]
  },
  {
   "cell_type": "code",
   "execution_count": 62,
   "metadata": {},
   "outputs": [],
   "source": [
    "spect = \"/work/ExoSpectrum/SPECTRUM/spectrum_transmission.cfg\"\n",
    "hitran = \"/work/ExoSpectrum/HITRAN/tli_hitran.cfg\"\n",
    "atm = \"/work/ExoSpectrum/ATM/atm_prod.cfg\""
   ]
  },
  {
   "cell_type": "code",
   "execution_count": null,
   "metadata": {},
   "outputs": [],
   "source": [
    "# ---- BD HITRAN ----\n",
    "pyrat_hitran = pb.run(hitran)"
   ]
  },
  {
   "cell_type": "code",
   "execution_count": 31,
   "metadata": {},
   "outputs": [],
   "source": [
    "def comp(number_bio,number_not_bio):\n",
    "    composition = []\n",
    "    comp_bio = ['H2', 'CH4', 'N2O', 'N2', 'O3', 'CH3Cl', 'N2O']\n",
    "    comp_no_bio = ['CO2', 'CO', 'H2O']\n",
    "    ch_bio = np.random.choice(comp_bio,size=number_bio,replace=False)\n",
    "    ch_nbio = np.random.choice(comp_no_bio,size=number_not_bio,replace=False)\n",
    "    composition = np.array([ [i,j] for i in ch_bio for j in ch_nbio])\n",
    "    return np.unique(composition.flatten())"
   ]
  },
  {
   "cell_type": "code",
   "execution_count": 36,
   "metadata": {},
   "outputs": [],
   "source": [
    "def abundance(num,imin,imax):\n",
    "    l = []\n",
    "    suma = 0 # suma acumulativa (debe ser menor que 1.0)\n",
    "    while(suma < 0.98 and len(l) != num):\n",
    "        if len(l) == 0: # primer valor\n",
    "            r1 = np.random.rand()\n",
    "            if r1 > imin and r1 < imax : # debe ser un min < r1 < max, para controlar un valor con gran concentracion\n",
    "                l.append(r1)\n",
    "                suma += l[-1] # suma el primer elemento.\n",
    "        elif len(l) != 0: \n",
    "            r = np.random.randint(1,11) # selecciona un numero aleatorio entre 1 y 10\n",
    "            n = l[-1]/r # divide el ultimo numero entre ese numero aleatorio\n",
    "            if (sum(l) + n) < 1.0 and n != l[-1]: # es la suma de numeros creados mas este ultimo menor que 1?\n",
    "                #print(sum(l) + n)\n",
    "                l.append(n) # almacenar este numero\n",
    "                suma += n  # sumar el nuevo elemento\n",
    "    return l\n",
    "\n",
    "def corr_ab(num):\n",
    "    flag = False\n",
    "    while(flag == False): # a veces se obtiene sumas menores a 0.95 y listas menores a num\n",
    "        ab = abundance(num,0.85,0.90)\n",
    "        if len(ab) == num and sum(ab) > 0.95: # si el resultado tiene un valor mayor de 0.95 y un numero correcto de longitud\n",
    "            flag = True # se acepta\n",
    "    #print(sum(ab))\n",
    "    ab_corr = [str(format(elem,'.1E')) for elem in ab] # convierte en string y en notacion cientifica\n",
    "    return ab_corr\n"
   ]
  },
  {
   "cell_type": "code",
   "execution_count": 60,
   "metadata": {},
   "outputs": [],
   "source": [
    "def write(comp, abun):\n",
    "    cm = ' '.join(comp) # junta las listas en un string\n",
    "    ab = ' '.join(abun)\n",
    "    with open(atm,\"r\") as rd:\n",
    "        data = rd.readlines() # obtiene la lista de string por linea en el doc\n",
    "        \n",
    "    data[22] = f'species = H2 {cm}\\n' # sobreescribe los elementos por el seleccionado aleatoriamente\n",
    "    data[23] = f'uniform = {ab}\\n' # sobreescribe los porcentajes por los seleccionados aleatoriamente\n",
    "    conct = ''.join(data) # junta de nuevo toda la lista ya modificada\n",
    "\n",
    "    with open(\"ATM/atm_prod.cfg\",\"w\") as wd: # escribe en el texto\n",
    "        wd.write(conct)\n"
   ]
  },
  {
   "cell_type": "code",
   "execution_count": null,
   "metadata": {},
   "outputs": [],
   "source": [
    "for i in range(1):\n",
    "    \n",
    "    # selecciona aleatoriamente 4 elementos de la lista de ejemplos (se tiene H2 por defecto como el más abundante)\n",
    "    comp4 = comp(3,1) # (numero comp biologicos, numero comp no biologicos)\n",
    "    abun4 = corr_ab(4) # llama la generacion de numeros.\n",
    "    \n",
    "    # Genera el archivo .atm\n",
    "    write(comp4,abun4)\n",
    "    \n",
    "    # --- atmósfera ----\n",
    "    pyrat_atm = pb.run(atm)\n",
    "    \n",
    "    # --- espectro ---\n",
    "    pyrat = pb.run(spect)\n",
    "    \n",
    "    wl = 1.0 / (pyrat.spec.wn*pc.um)\n",
    "    depth = pyrat.spec.spectrum / pc.percent\n",
    "    \n",
    "    df = pd.DataFrame({'wl': wl, 'p': depth})\n",
    "    df.to_csv(f\"Resultados/no_bio_{comp4}_{abun4}.txt\",sep=\"\\t\",index=None)\n",
    "    "
   ]
  },
  {
   "cell_type": "code",
   "execution_count": null,
   "metadata": {},
   "outputs": [],
   "source": []
  }
 ],
 "metadata": {
  "kernelspec": {
   "display_name": "Python 3.9.12 ('base')",
   "language": "python",
   "name": "python3"
  },
  "language_info": {
   "codemirror_mode": {
    "name": "ipython",
    "version": 3
   },
   "file_extension": ".py",
   "mimetype": "text/x-python",
   "name": "python",
   "nbconvert_exporter": "python",
   "pygments_lexer": "ipython3",
   "version": "3.9.12"
  },
  "vscode": {
   "interpreter": {
    "hash": "88279d2366fe020547cde40dd65aa0e3aa662a6ec1f3ca12d88834876c85e1a6"
   }
  }
 },
 "nbformat": 4,
 "nbformat_minor": 2
}
