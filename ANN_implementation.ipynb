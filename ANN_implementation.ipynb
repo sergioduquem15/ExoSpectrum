{
 "cells": [
  {
   "cell_type": "code",
   "execution_count": 122,
   "metadata": {},
   "outputs": [],
   "source": [
    "# Pandas - Numpy - Seaborn - Matplotlib (import data, manipulation, graphication)\n",
    "import pandas as pd\n",
    "import numpy as np\n",
    "import seaborn as sns \n",
    "import matplotlib.pyplot as plt\n",
    "\n",
    "# Scikit-learn (train|test split, scaler)\n",
    "from sklearn.preprocessing import StandardScaler\n",
    "from sklearn.model_selection import train_test_split\n",
    "from sklearn.metrics import confusion_matrix\n",
    "from keras.utils.np_utils import to_categorical \n",
    "\n",
    "# TensorFlow - Keras (Model, layers)\n",
    "from tensorflow.keras.models import Sequential\n",
    "from tensorflow.keras.layers import InputLayer, Dense\n",
    "\n",
    "import warnings\n",
    "warnings.filterwarnings('ignore')"
   ]
  },
  {
   "cell_type": "code",
   "execution_count": 189,
   "metadata": {},
   "outputs": [],
   "source": [
    "X_train_ae1 = pd.read_csv(\"X_data_autoencoded1.csv\") # Se obtiene el resultado del autoencoder para X_train\n",
    "X_train_ae1 = X_train_ae1.to_numpy() # Se convierte a un arreglo de numpy"
   ]
  },
  {
   "cell_type": "code",
   "execution_count": 190,
   "metadata": {},
   "outputs": [],
   "source": [
    "X_test_ae1 = pd.read_csv(\"X_test_autoencoded1.csv\") # Se obtiene el resultado del autoencoder para X_test\n",
    "X_test_ae1 = X_test_ae1.to_numpy() # Se convierte a un arreglo de numpy"
   ]
  },
  {
   "cell_type": "code",
   "execution_count": 191,
   "metadata": {},
   "outputs": [],
   "source": [
    "y_train = pd.read_csv(\"y_train.csv\").to_numpy() # Se llama los valores de \"y train\" asociados a los X en el autoencode.\n",
    "y_test = pd.read_csv(\"y_test.csv\").to_numpy() # Se llama los valores de \"y test\" asociados a los X en el autoencode."
   ]
  },
  {
   "cell_type": "code",
   "execution_count": 192,
   "metadata": {},
   "outputs": [],
   "source": [
    "def get_model(input_shape): \n",
    "    model=Sequential([ # Se construye el modelo Secuencial\n",
    "                  InputLayer(input_shape=input_shape), # Tamaño del input (100,)\n",
    "                  Dense(units=500,activation='relu',name='layer_hidden1'), # 500 unidades, activacion 'relu'\n",
    "                  Dense(units=250,activation='relu',name='layer_hidden2'), # 250 unidades, activacion 'relu'\n",
    "                  Dense(units=50,activation='relu',name='layer_hidden3'),  # 50 unidades, activacion 'relu'\n",
    "                  Dense(units=6,activation='softmax',name='output_layer')  # 6 unidades (numero de categorias), activacion 'softmax'\n",
    "                 ])\n",
    "    return model"
   ]
  },
  {
   "cell_type": "code",
   "execution_count": 193,
   "metadata": {},
   "outputs": [],
   "source": [
    "model = get_model(X_train_ae1[0].shape) # Se obtiene el modelo secuencial dado el tamaño de los datos de entrenamiento."
   ]
  },
  {
   "cell_type": "code",
   "execution_count": 194,
   "metadata": {},
   "outputs": [
    {
     "name": "stdout",
     "output_type": "stream",
     "text": [
      "Model: \"sequential_19\"\n",
      "_________________________________________________________________\n",
      " Layer (type)                Output Shape              Param #   \n",
      "=================================================================\n",
      " layer_hidden1 (Dense)       (None, 500)               250500    \n",
      "                                                                 \n",
      " layer_hidden2 (Dense)       (None, 250)               125250    \n",
      "                                                                 \n",
      " layer_hidden3 (Dense)       (None, 50)                12550     \n",
      "                                                                 \n",
      " output_layer (Dense)        (None, 6)                 306       \n",
      "                                                                 \n",
      "=================================================================\n",
      "Total params: 388,606\n",
      "Trainable params: 388,606\n",
      "Non-trainable params: 0\n",
      "_________________________________________________________________\n"
     ]
    }
   ],
   "source": [
    "model.summary()"
   ]
  },
  {
   "cell_type": "code",
   "execution_count": 195,
   "metadata": {},
   "outputs": [],
   "source": [
    "def compile_model(model): # Compilador\n",
    "        model.compile(optimizer='sgd', # se utilizara sgd por ser bueno en clasificaciones.\n",
    "              loss='categorical_crossentropy', # se utilizara categorical crossentropy por que la variable predictora es un one hot encoding.\n",
    "              metrics=['accuracy']) # Se observara el accuracy de los datos."
   ]
  },
  {
   "cell_type": "code",
   "execution_count": 196,
   "metadata": {},
   "outputs": [],
   "source": [
    "compile_model(model) # compilamos el modelo."
   ]
  },
  {
   "cell_type": "code",
   "execution_count": 197,
   "metadata": {},
   "outputs": [],
   "source": [
    "epochs=100\n",
    "myhistory=model.fit(X_train_ae1,y_train,  epochs=epochs, batch_size=32, validation_split=0.15, verbose=0)"
   ]
  },
  {
   "cell_type": "code",
   "execution_count": 198,
   "metadata": {},
   "outputs": [
    {
     "name": "stdout",
     "output_type": "stream",
     "text": [
      "1.0 validation set accuracy\n",
      "1.0 training set accuracy\n"
     ]
    }
   ],
   "source": [
    "print(myhistory.history['val_accuracy'][-1], \"validation set accuracy\") # Se imprime el accuracy del modelo respecto al set de validacion\n",
    "print(myhistory.history['accuracy'][-1], \"training set accuracy\") # Se imprime el accuracy del modelo respecto al set de entrenamiento"
   ]
  },
  {
   "cell_type": "code",
   "execution_count": 199,
   "metadata": {},
   "outputs": [
    {
     "data": {
      "text/plain": [
       "<matplotlib.legend.Legend at 0x1d58268e700>"
      ]
     },
     "execution_count": 199,
     "metadata": {},
     "output_type": "execute_result"
    },
    {
     "data": {
      "image/png": "[encoded data removed]",
      "text/plain": [
       "<Figure size 432x288 with 1 Axes>"
      ]
     },
     "metadata": {
      "needs_background": "light"
     },
     "output_type": "display_data"
    }
   ],
   "source": [
    "xvals=range(epochs) # Se grafica el accuracy respecto los epochs, vamos que la tendencia indican un buen aprendizaje \n",
    "fig,ax=plt.subplots(1,1)\n",
    "ax.plot(xvals, myhistory.history['val_accuracy'],label='validation set accuracy')\n",
    "ax.plot(xvals, myhistory.history['accuracy'],label='train set accuracy')\n",
    "ax.set_xlabel('epochs')\n",
    "ax.set_ylabel('accuracy')\n",
    "ax.legend()"
   ]
  },
  {
   "cell_type": "code",
   "execution_count": 200,
   "metadata": {},
   "outputs": [
    {
     "name": "stdout",
     "output_type": "stream",
     "text": [
      "2/2 [==============================] - 0s 2ms/step - loss: 0.0015 - accuracy: 1.0000\n",
      "1.0\n"
     ]
    }
   ],
   "source": [
    "loss, accuracy=model.evaluate(X_test_ae1, y_test) \n",
    "print(accuracy) # Se evalua el resultado del modelo respecto a los datos de prueba."
   ]
  },
  {
   "cell_type": "code",
   "execution_count": 201,
   "metadata": {},
   "outputs": [
    {
     "name": "stdout",
     "output_type": "stream",
     "text": [
      "2/2 [==============================] - 0s 2ms/step\n"
     ]
    }
   ],
   "source": [
    "pred = model.predict(X_test_ae1)"
   ]
  },
  {
   "cell_type": "code",
   "execution_count": 202,
   "metadata": {},
   "outputs": [],
   "source": [
    "def results(y_pred,y_test):\n",
    "    data = pd.read_csv(\"data_molST.csv\")\n",
    "    target = ['molecules']\n",
    "    target_values = data[target]['molecules'].unique()\n",
    "    target_numeric = np.arange(0,len(target_values))\n",
    "    dic2_target = {target_numeric[i]:target_values[i] for i in range(len(target_numeric)) }\n",
    "\n",
    "    prediction = [ np.argmax(i) for i in y_pred ]\n",
    "    test = [ np.argmax(i) for i in y_test]\n",
    "\n",
    "    res = pd.DataFrame({\"Test values\":test,\"Prediction values\":prediction})\n",
    "    res['Prediction values'] = res['Prediction values'].apply(lambda x: dic2_target[x])\n",
    "    res['Test values'] = res['Test values'].apply(lambda x: dic2_target[x])\n",
    "\n",
    "    return res"
   ]
  },
  {
   "cell_type": "code",
   "execution_count": 204,
   "metadata": {},
   "outputs": [],
   "source": [
    "result = results(pred,y_test)"
   ]
  },
  {
   "cell_type": "code",
   "execution_count": 205,
   "metadata": {},
   "outputs": [
    {
     "data": {
      "text/plain": [
       "Test values  Prediction values\n",
       "N2           N2                   19\n",
       "CH3Cl        CH3Cl                17\n",
       "dtype: int64"
      ]
     },
     "execution_count": 205,
     "metadata": {},
     "output_type": "execute_result"
    }
   ],
   "source": [
    "result.value_counts()"
   ]
  },
  {
   "cell_type": "code",
   "execution_count": 207,
   "metadata": {},
   "outputs": [
    {
     "data": {
      "image/png": "[encoded data removed]",
      "text/plain": [
       "<Figure size 432x288 with 1 Axes>"
      ]
     },
     "metadata": {
      "needs_background": "light"
     },
     "output_type": "display_data"
    }
   ],
   "source": [
    "#categorias=['N2', 'CH3Cl', 'H2O', 'H2S', 'CO', 'O3', 'O2', 'CH4', 'HNO3','NO2', 'C2H6', 'N2O', 'NH3', 'CO2']\n",
    "categorias=[\"N\",\"ST\"]\n",
    "cf_matrix = confusion_matrix(result[\"Test values\"],result[\"Prediction values\"])\n",
    "sns.heatmap(cf_matrix,annot=True,cmap='Blues',cbar=False,xticklabels=categorias,yticklabels=categorias)\n",
    "plt.xlabel(\"True label\")\n",
    "plt.ylabel(\"Predicted label\")\n",
    "plt.show()"
   ]
  },
  {
   "cell_type": "markdown",
   "metadata": {},
   "source": [
    "# Sin Autoenconding-enconding - Analisis moleculas"
   ]
  },
  {
   "cell_type": "code",
   "execution_count": null,
   "metadata": {},
   "outputs": [],
   "source": [
    "def get_model(input_shape): \n",
    "    model=Sequential([ # Se construye el modelo Secuencial\n",
    "                  InputLayer(input_shape=input_shape), # Tamaño del input (100,)\n",
    "                  Dense(units=500,activation='relu',name='layer_hidden1'), # 500 unidades, activacion 'relu'\n",
    "                  Dense(units=250,activation='relu',name='layer_hidden2'), # 250 unidades, activacion 'relu'\n",
    "                  Dense(units=50,activation='relu',name='layer_hidden3'),  # 50 unidades, activacion 'relu'\n",
    "                  Dense(units=2,activation='softmax',name='output_layer')  # 6 unidades (numero de categorias), activacion 'softmax'\n",
    "                 ])\n",
    "    return model"
   ]
  },
  {
   "cell_type": "code",
   "execution_count": 113,
   "metadata": {},
   "outputs": [
    {
     "data": {
      "text/html": [
       "<div>\n",
       "<style scoped>\n",
       "    .dataframe tbody tr th:only-of-type {\n",
       "        vertical-align: middle;\n",
       "    }\n",
       "\n",
       "    .dataframe tbody tr th {\n",
       "        vertical-align: top;\n",
       "    }\n",
       "\n",
       "    .dataframe thead th {\n",
       "        text-align: right;\n",
       "    }\n",
       "</style>\n",
       "<table border=\"1\" class=\"dataframe\">\n",
       "  <thead>\n",
       "    <tr style=\"text-align: right;\">\n",
       "      <th></th>\n",
       "      <th>molecules</th>\n",
       "      <th>exoplanet_type</th>\n",
       "      <th>0.3000004285720408</th>\n",
       "      <th>0.3045686178256013</th>\n",
       "      <th>0.3091368070791618</th>\n",
       "      <th>0.3137049963327223</th>\n",
       "      <th>0.3182731855862828</th>\n",
       "      <th>0.3228413748398433</th>\n",
       "      <th>0.3274095640934038</th>\n",
       "      <th>0.33197775334696433</th>\n",
       "      <th>...</th>\n",
       "      <th>13.958886296717955</th>\n",
       "      <th>13.963454485971514</th>\n",
       "      <th>13.968022675225075</th>\n",
       "      <th>13.972590864478637</th>\n",
       "      <th>13.977159053732196</th>\n",
       "      <th>13.981727242985757</th>\n",
       "      <th>13.986295432239316</th>\n",
       "      <th>13.990863621492878</th>\n",
       "      <th>13.995431810746439</th>\n",
       "      <th>13.999999999999998</th>\n",
       "    </tr>\n",
       "  </thead>\n",
       "  <tbody>\n",
       "    <tr>\n",
       "      <th>0</th>\n",
       "      <td>N2</td>\n",
       "      <td>ST</td>\n",
       "      <td>0.300117</td>\n",
       "      <td>0.300117</td>\n",
       "      <td>0.300117</td>\n",
       "      <td>0.300117</td>\n",
       "      <td>0.300117</td>\n",
       "      <td>0.300117</td>\n",
       "      <td>0.300117</td>\n",
       "      <td>0.300117</td>\n",
       "      <td>...</td>\n",
       "      <td>0.302737</td>\n",
       "      <td>0.302734</td>\n",
       "      <td>0.302731</td>\n",
       "      <td>0.302729</td>\n",
       "      <td>0.302727</td>\n",
       "      <td>0.302725</td>\n",
       "      <td>0.302724</td>\n",
       "      <td>0.302722</td>\n",
       "      <td>0.302721</td>\n",
       "      <td>0.302720</td>\n",
       "    </tr>\n",
       "    <tr>\n",
       "      <th>1</th>\n",
       "      <td>CH3Cl</td>\n",
       "      <td>ST</td>\n",
       "      <td>0.300117</td>\n",
       "      <td>0.300117</td>\n",
       "      <td>0.300117</td>\n",
       "      <td>0.300117</td>\n",
       "      <td>0.300117</td>\n",
       "      <td>0.300117</td>\n",
       "      <td>0.300117</td>\n",
       "      <td>0.300117</td>\n",
       "      <td>...</td>\n",
       "      <td>0.302737</td>\n",
       "      <td>0.302734</td>\n",
       "      <td>0.302731</td>\n",
       "      <td>0.302729</td>\n",
       "      <td>0.302727</td>\n",
       "      <td>0.302725</td>\n",
       "      <td>0.302724</td>\n",
       "      <td>0.302722</td>\n",
       "      <td>0.302721</td>\n",
       "      <td>0.302720</td>\n",
       "    </tr>\n",
       "    <tr>\n",
       "      <th>2</th>\n",
       "      <td>H2O</td>\n",
       "      <td>ST</td>\n",
       "      <td>0.300117</td>\n",
       "      <td>0.300117</td>\n",
       "      <td>0.300117</td>\n",
       "      <td>0.300117</td>\n",
       "      <td>0.300117</td>\n",
       "      <td>0.300117</td>\n",
       "      <td>0.300117</td>\n",
       "      <td>0.300117</td>\n",
       "      <td>...</td>\n",
       "      <td>0.302737</td>\n",
       "      <td>0.302734</td>\n",
       "      <td>0.302731</td>\n",
       "      <td>0.302729</td>\n",
       "      <td>0.302727</td>\n",
       "      <td>0.302725</td>\n",
       "      <td>0.302724</td>\n",
       "      <td>0.302722</td>\n",
       "      <td>0.302721</td>\n",
       "      <td>0.302720</td>\n",
       "    </tr>\n",
       "    <tr>\n",
       "      <th>3</th>\n",
       "      <td>H2S</td>\n",
       "      <td>ST</td>\n",
       "      <td>0.300117</td>\n",
       "      <td>0.300117</td>\n",
       "      <td>0.300117</td>\n",
       "      <td>0.300117</td>\n",
       "      <td>0.300117</td>\n",
       "      <td>0.300117</td>\n",
       "      <td>0.300117</td>\n",
       "      <td>0.300117</td>\n",
       "      <td>...</td>\n",
       "      <td>0.302737</td>\n",
       "      <td>0.302734</td>\n",
       "      <td>0.302731</td>\n",
       "      <td>0.302729</td>\n",
       "      <td>0.302727</td>\n",
       "      <td>0.302725</td>\n",
       "      <td>0.302724</td>\n",
       "      <td>0.302722</td>\n",
       "      <td>0.302721</td>\n",
       "      <td>0.302720</td>\n",
       "    </tr>\n",
       "    <tr>\n",
       "      <th>4</th>\n",
       "      <td>N2</td>\n",
       "      <td>ST</td>\n",
       "      <td>0.300104</td>\n",
       "      <td>0.300104</td>\n",
       "      <td>0.300104</td>\n",
       "      <td>0.300104</td>\n",
       "      <td>0.300104</td>\n",
       "      <td>0.300104</td>\n",
       "      <td>0.300104</td>\n",
       "      <td>0.300104</td>\n",
       "      <td>...</td>\n",
       "      <td>0.302836</td>\n",
       "      <td>0.302833</td>\n",
       "      <td>0.302830</td>\n",
       "      <td>0.302827</td>\n",
       "      <td>0.302825</td>\n",
       "      <td>0.302823</td>\n",
       "      <td>0.302821</td>\n",
       "      <td>0.302820</td>\n",
       "      <td>0.302819</td>\n",
       "      <td>0.302818</td>\n",
       "    </tr>\n",
       "    <tr>\n",
       "      <th>5</th>\n",
       "      <td>CH3Cl</td>\n",
       "      <td>ST</td>\n",
       "      <td>0.300104</td>\n",
       "      <td>0.300104</td>\n",
       "      <td>0.300104</td>\n",
       "      <td>0.300104</td>\n",
       "      <td>0.300104</td>\n",
       "      <td>0.300104</td>\n",
       "      <td>0.300104</td>\n",
       "      <td>0.300104</td>\n",
       "      <td>...</td>\n",
       "      <td>0.302836</td>\n",
       "      <td>0.302833</td>\n",
       "      <td>0.302830</td>\n",
       "      <td>0.302827</td>\n",
       "      <td>0.302825</td>\n",
       "      <td>0.302823</td>\n",
       "      <td>0.302821</td>\n",
       "      <td>0.302820</td>\n",
       "      <td>0.302819</td>\n",
       "      <td>0.302818</td>\n",
       "    </tr>\n",
       "    <tr>\n",
       "      <th>6</th>\n",
       "      <td>H2S</td>\n",
       "      <td>ST</td>\n",
       "      <td>0.300104</td>\n",
       "      <td>0.300104</td>\n",
       "      <td>0.300104</td>\n",
       "      <td>0.300104</td>\n",
       "      <td>0.300104</td>\n",
       "      <td>0.300104</td>\n",
       "      <td>0.300104</td>\n",
       "      <td>0.300104</td>\n",
       "      <td>...</td>\n",
       "      <td>0.302836</td>\n",
       "      <td>0.302833</td>\n",
       "      <td>0.302830</td>\n",
       "      <td>0.302827</td>\n",
       "      <td>0.302825</td>\n",
       "      <td>0.302823</td>\n",
       "      <td>0.302821</td>\n",
       "      <td>0.302820</td>\n",
       "      <td>0.302819</td>\n",
       "      <td>0.302818</td>\n",
       "    </tr>\n",
       "    <tr>\n",
       "      <th>7</th>\n",
       "      <td>CO</td>\n",
       "      <td>ST</td>\n",
       "      <td>0.300104</td>\n",
       "      <td>0.300104</td>\n",
       "      <td>0.300104</td>\n",
       "      <td>0.300104</td>\n",
       "      <td>0.300104</td>\n",
       "      <td>0.300104</td>\n",
       "      <td>0.300104</td>\n",
       "      <td>0.300104</td>\n",
       "      <td>...</td>\n",
       "      <td>0.302836</td>\n",
       "      <td>0.302833</td>\n",
       "      <td>0.302830</td>\n",
       "      <td>0.302827</td>\n",
       "      <td>0.302825</td>\n",
       "      <td>0.302823</td>\n",
       "      <td>0.302821</td>\n",
       "      <td>0.302820</td>\n",
       "      <td>0.302819</td>\n",
       "      <td>0.302818</td>\n",
       "    </tr>\n",
       "    <tr>\n",
       "      <th>8</th>\n",
       "      <td>N2</td>\n",
       "      <td>ST</td>\n",
       "      <td>0.300090</td>\n",
       "      <td>0.300090</td>\n",
       "      <td>0.300090</td>\n",
       "      <td>0.300090</td>\n",
       "      <td>0.300090</td>\n",
       "      <td>0.300090</td>\n",
       "      <td>0.300090</td>\n",
       "      <td>0.300090</td>\n",
       "      <td>...</td>\n",
       "      <td>0.302849</td>\n",
       "      <td>0.302844</td>\n",
       "      <td>0.302840</td>\n",
       "      <td>0.302837</td>\n",
       "      <td>0.302833</td>\n",
       "      <td>0.302830</td>\n",
       "      <td>0.302828</td>\n",
       "      <td>0.302826</td>\n",
       "      <td>0.302824</td>\n",
       "      <td>0.302823</td>\n",
       "    </tr>\n",
       "    <tr>\n",
       "      <th>9</th>\n",
       "      <td>O3</td>\n",
       "      <td>ST</td>\n",
       "      <td>0.300090</td>\n",
       "      <td>0.300090</td>\n",
       "      <td>0.300090</td>\n",
       "      <td>0.300090</td>\n",
       "      <td>0.300090</td>\n",
       "      <td>0.300090</td>\n",
       "      <td>0.300090</td>\n",
       "      <td>0.300090</td>\n",
       "      <td>...</td>\n",
       "      <td>0.302849</td>\n",
       "      <td>0.302844</td>\n",
       "      <td>0.302840</td>\n",
       "      <td>0.302837</td>\n",
       "      <td>0.302833</td>\n",
       "      <td>0.302830</td>\n",
       "      <td>0.302828</td>\n",
       "      <td>0.302826</td>\n",
       "      <td>0.302824</td>\n",
       "      <td>0.302823</td>\n",
       "    </tr>\n",
       "  </tbody>\n",
       "</table>\n",
       "<p>10 rows × 3002 columns</p>\n",
       "</div>"
      ],
      "text/plain": [
       "  molecules exoplanet_type  0.3000004285720408  0.3045686178256013  \\\n",
       "0        N2             ST            0.300117            0.300117   \n",
       "1     CH3Cl             ST            0.300117            0.300117   \n",
       "2       H2O             ST            0.300117            0.300117   \n",
       "3       H2S             ST            0.300117            0.300117   \n",
       "4        N2             ST            0.300104            0.300104   \n",
       "5     CH3Cl             ST            0.300104            0.300104   \n",
       "6       H2S             ST            0.300104            0.300104   \n",
       "7        CO             ST            0.300104            0.300104   \n",
       "8        N2             ST            0.300090            0.300090   \n",
       "9        O3             ST            0.300090            0.300090   \n",
       "\n",
       "   0.3091368070791618  0.3137049963327223  0.3182731855862828  \\\n",
       "0            0.300117            0.300117            0.300117   \n",
       "1            0.300117            0.300117            0.300117   \n",
       "2            0.300117            0.300117            0.300117   \n",
       "3            0.300117            0.300117            0.300117   \n",
       "4            0.300104            0.300104            0.300104   \n",
       "5            0.300104            0.300104            0.300104   \n",
       "6            0.300104            0.300104            0.300104   \n",
       "7            0.300104            0.300104            0.300104   \n",
       "8            0.300090            0.300090            0.300090   \n",
       "9            0.300090            0.300090            0.300090   \n",
       "\n",
       "   0.3228413748398433  0.3274095640934038  0.33197775334696433  ...  \\\n",
       "0            0.300117            0.300117             0.300117  ...   \n",
       "1            0.300117            0.300117             0.300117  ...   \n",
       "2            0.300117            0.300117             0.300117  ...   \n",
       "3            0.300117            0.300117             0.300117  ...   \n",
       "4            0.300104            0.300104             0.300104  ...   \n",
       "5            0.300104            0.300104             0.300104  ...   \n",
       "6            0.300104            0.300104             0.300104  ...   \n",
       "7            0.300104            0.300104             0.300104  ...   \n",
       "8            0.300090            0.300090             0.300090  ...   \n",
       "9            0.300090            0.300090             0.300090  ...   \n",
       "\n",
       "   13.958886296717955  13.963454485971514  13.968022675225075  \\\n",
       "0            0.302737            0.302734            0.302731   \n",
       "1            0.302737            0.302734            0.302731   \n",
       "2            0.302737            0.302734            0.302731   \n",
       "3            0.302737            0.302734            0.302731   \n",
       "4            0.302836            0.302833            0.302830   \n",
       "5            0.302836            0.302833            0.302830   \n",
       "6            0.302836            0.302833            0.302830   \n",
       "7            0.302836            0.302833            0.302830   \n",
       "8            0.302849            0.302844            0.302840   \n",
       "9            0.302849            0.302844            0.302840   \n",
       "\n",
       "   13.972590864478637  13.977159053732196  13.981727242985757  \\\n",
       "0            0.302729            0.302727            0.302725   \n",
       "1            0.302729            0.302727            0.302725   \n",
       "2            0.302729            0.302727            0.302725   \n",
       "3            0.302729            0.302727            0.302725   \n",
       "4            0.302827            0.302825            0.302823   \n",
       "5            0.302827            0.302825            0.302823   \n",
       "6            0.302827            0.302825            0.302823   \n",
       "7            0.302827            0.302825            0.302823   \n",
       "8            0.302837            0.302833            0.302830   \n",
       "9            0.302837            0.302833            0.302830   \n",
       "\n",
       "   13.986295432239316  13.990863621492878  13.995431810746439  \\\n",
       "0            0.302724            0.302722            0.302721   \n",
       "1            0.302724            0.302722            0.302721   \n",
       "2            0.302724            0.302722            0.302721   \n",
       "3            0.302724            0.302722            0.302721   \n",
       "4            0.302821            0.302820            0.302819   \n",
       "5            0.302821            0.302820            0.302819   \n",
       "6            0.302821            0.302820            0.302819   \n",
       "7            0.302821            0.302820            0.302819   \n",
       "8            0.302828            0.302826            0.302824   \n",
       "9            0.302828            0.302826            0.302824   \n",
       "\n",
       "   13.999999999999998  \n",
       "0            0.302720  \n",
       "1            0.302720  \n",
       "2            0.302720  \n",
       "3            0.302720  \n",
       "4            0.302818  \n",
       "5            0.302818  \n",
       "6            0.302818  \n",
       "7            0.302818  \n",
       "8            0.302823  \n",
       "9            0.302823  \n",
       "\n",
       "[10 rows x 3002 columns]"
      ]
     },
     "execution_count": 113,
     "metadata": {},
     "output_type": "execute_result"
    }
   ],
   "source": [
    "data_final_N = pd.read_csv('data_molN.csv', sep=',')\n",
    "data_final_ST = pd.read_csv('data_molST.csv', sep=',')\n",
    "data_final_ST.head(10)"
   ]
  },
  {
   "cell_type": "code",
   "execution_count": 81,
   "metadata": {},
   "outputs": [],
   "source": [
    "data_final = pd.concat([data_final_N, data_final_ST])"
   ]
  },
  {
   "cell_type": "code",
   "execution_count": 109,
   "metadata": {},
   "outputs": [],
   "source": [
    "target = ['molecules'] # Seleccionamos la columna predictora\n",
    "#predictors = data.columns.values.tolist()[2:] #\n",
    "target_values = data_final[target]['molecules'].unique() # Seleccionamos las categorias que puede tener cada asteroide, son 23 en total.\n",
    "target_numeric = np.arange(0,len(target_values)) # Se crea una lista de numeros enteros entre 0 y 23\n",
    "dic_target = {target_values[i]:target_numeric[i] for i in range(len(target_numeric)) }"
   ]
  },
  {
   "cell_type": "code",
   "execution_count": 110,
   "metadata": {},
   "outputs": [
    {
     "name": "stdout",
     "output_type": "stream",
     "text": [
      "{'H2': 0, 'He': 1, 'H2O': 2, 'CH4': 3, 'Kr': 4, 'Ne': 5, 'C2H6': 6, 'Ar': 7, 'Xe': 8, 'N2': 9, 'CH3Cl': 10, 'H2S': 11, 'CO': 12, 'O3': 13, 'O2': 14, 'HNO3': 15, 'NO2': 16, 'N2O': 17, 'NH3': 18, 'CO2': 19}\n"
     ]
    }
   ],
   "source": [
    "print(dic_target)"
   ]
  },
  {
   "cell_type": "code",
   "execution_count": 111,
   "metadata": {},
   "outputs": [
    {
     "data": {
      "text/html": [
       "<div>\n",
       "<style scoped>\n",
       "    .dataframe tbody tr th:only-of-type {\n",
       "        vertical-align: middle;\n",
       "    }\n",
       "\n",
       "    .dataframe tbody tr th {\n",
       "        vertical-align: top;\n",
       "    }\n",
       "\n",
       "    .dataframe thead th {\n",
       "        text-align: right;\n",
       "    }\n",
       "</style>\n",
       "<table border=\"1\" class=\"dataframe\">\n",
       "  <thead>\n",
       "    <tr style=\"text-align: right;\">\n",
       "      <th></th>\n",
       "      <th>type_numeric</th>\n",
       "      <th>0.3000004285720408</th>\n",
       "      <th>0.3045686178256013</th>\n",
       "      <th>0.3091368070791618</th>\n",
       "      <th>0.3137049963327223</th>\n",
       "      <th>0.3182731855862828</th>\n",
       "      <th>0.3228413748398433</th>\n",
       "      <th>0.3274095640934038</th>\n",
       "      <th>0.33197775334696433</th>\n",
       "      <th>0.33654594260052484</th>\n",
       "      <th>...</th>\n",
       "      <th>13.958886296717955</th>\n",
       "      <th>13.963454485971514</th>\n",
       "      <th>13.968022675225075</th>\n",
       "      <th>13.972590864478637</th>\n",
       "      <th>13.977159053732196</th>\n",
       "      <th>13.981727242985757</th>\n",
       "      <th>13.986295432239316</th>\n",
       "      <th>13.990863621492878</th>\n",
       "      <th>13.995431810746439</th>\n",
       "      <th>13.999999999999998</th>\n",
       "    </tr>\n",
       "  </thead>\n",
       "  <tbody>\n",
       "    <tr>\n",
       "      <th>0</th>\n",
       "      <td>0</td>\n",
       "      <td>0.162458</td>\n",
       "      <td>0.161869</td>\n",
       "      <td>0.161287</td>\n",
       "      <td>0.160716</td>\n",
       "      <td>0.160158</td>\n",
       "      <td>0.159610</td>\n",
       "      <td>0.159072</td>\n",
       "      <td>0.158545</td>\n",
       "      <td>0.158027</td>\n",
       "      <td>...</td>\n",
       "      <td>0.268190</td>\n",
       "      <td>0.268130</td>\n",
       "      <td>0.268073</td>\n",
       "      <td>0.268023</td>\n",
       "      <td>0.267977</td>\n",
       "      <td>0.267937</td>\n",
       "      <td>0.267903</td>\n",
       "      <td>0.267874</td>\n",
       "      <td>0.267852</td>\n",
       "      <td>0.267837</td>\n",
       "    </tr>\n",
       "    <tr>\n",
       "      <th>1</th>\n",
       "      <td>1</td>\n",
       "      <td>0.162458</td>\n",
       "      <td>0.161869</td>\n",
       "      <td>0.161287</td>\n",
       "      <td>0.160716</td>\n",
       "      <td>0.160158</td>\n",
       "      <td>0.159610</td>\n",
       "      <td>0.159072</td>\n",
       "      <td>0.158545</td>\n",
       "      <td>0.158027</td>\n",
       "      <td>...</td>\n",
       "      <td>0.268190</td>\n",
       "      <td>0.268130</td>\n",
       "      <td>0.268073</td>\n",
       "      <td>0.268023</td>\n",
       "      <td>0.267977</td>\n",
       "      <td>0.267937</td>\n",
       "      <td>0.267903</td>\n",
       "      <td>0.267874</td>\n",
       "      <td>0.267852</td>\n",
       "      <td>0.267837</td>\n",
       "    </tr>\n",
       "    <tr>\n",
       "      <th>2</th>\n",
       "      <td>2</td>\n",
       "      <td>0.162458</td>\n",
       "      <td>0.161869</td>\n",
       "      <td>0.161287</td>\n",
       "      <td>0.160716</td>\n",
       "      <td>0.160158</td>\n",
       "      <td>0.159610</td>\n",
       "      <td>0.159072</td>\n",
       "      <td>0.158545</td>\n",
       "      <td>0.158027</td>\n",
       "      <td>...</td>\n",
       "      <td>0.268190</td>\n",
       "      <td>0.268130</td>\n",
       "      <td>0.268073</td>\n",
       "      <td>0.268023</td>\n",
       "      <td>0.267977</td>\n",
       "      <td>0.267937</td>\n",
       "      <td>0.267903</td>\n",
       "      <td>0.267874</td>\n",
       "      <td>0.267852</td>\n",
       "      <td>0.267837</td>\n",
       "    </tr>\n",
       "    <tr>\n",
       "      <th>3</th>\n",
       "      <td>3</td>\n",
       "      <td>0.162458</td>\n",
       "      <td>0.161869</td>\n",
       "      <td>0.161287</td>\n",
       "      <td>0.160716</td>\n",
       "      <td>0.160158</td>\n",
       "      <td>0.159610</td>\n",
       "      <td>0.159072</td>\n",
       "      <td>0.158545</td>\n",
       "      <td>0.158027</td>\n",
       "      <td>...</td>\n",
       "      <td>0.268190</td>\n",
       "      <td>0.268130</td>\n",
       "      <td>0.268073</td>\n",
       "      <td>0.268023</td>\n",
       "      <td>0.267977</td>\n",
       "      <td>0.267937</td>\n",
       "      <td>0.267903</td>\n",
       "      <td>0.267874</td>\n",
       "      <td>0.267852</td>\n",
       "      <td>0.267837</td>\n",
       "    </tr>\n",
       "    <tr>\n",
       "      <th>4</th>\n",
       "      <td>0</td>\n",
       "      <td>0.154927</td>\n",
       "      <td>0.154558</td>\n",
       "      <td>0.154194</td>\n",
       "      <td>0.153836</td>\n",
       "      <td>0.153484</td>\n",
       "      <td>0.153139</td>\n",
       "      <td>0.152800</td>\n",
       "      <td>0.152467</td>\n",
       "      <td>0.152140</td>\n",
       "      <td>...</td>\n",
       "      <td>0.212166</td>\n",
       "      <td>0.212132</td>\n",
       "      <td>0.212102</td>\n",
       "      <td>0.212075</td>\n",
       "      <td>0.212050</td>\n",
       "      <td>0.212029</td>\n",
       "      <td>0.212011</td>\n",
       "      <td>0.211996</td>\n",
       "      <td>0.211984</td>\n",
       "      <td>0.211976</td>\n",
       "    </tr>\n",
       "  </tbody>\n",
       "</table>\n",
       "<p>5 rows × 3001 columns</p>\n",
       "</div>"
      ],
      "text/plain": [
       "   type_numeric  0.3000004285720408  0.3045686178256013  0.3091368070791618  \\\n",
       "0             0            0.162458            0.161869            0.161287   \n",
       "1             1            0.162458            0.161869            0.161287   \n",
       "2             2            0.162458            0.161869            0.161287   \n",
       "3             3            0.162458            0.161869            0.161287   \n",
       "4             0            0.154927            0.154558            0.154194   \n",
       "\n",
       "   0.3137049963327223  0.3182731855862828  0.3228413748398433  \\\n",
       "0            0.160716            0.160158            0.159610   \n",
       "1            0.160716            0.160158            0.159610   \n",
       "2            0.160716            0.160158            0.159610   \n",
       "3            0.160716            0.160158            0.159610   \n",
       "4            0.153836            0.153484            0.153139   \n",
       "\n",
       "   0.3274095640934038  0.33197775334696433  0.33654594260052484  ...  \\\n",
       "0            0.159072             0.158545             0.158027  ...   \n",
       "1            0.159072             0.158545             0.158027  ...   \n",
       "2            0.159072             0.158545             0.158027  ...   \n",
       "3            0.159072             0.158545             0.158027  ...   \n",
       "4            0.152800             0.152467             0.152140  ...   \n",
       "\n",
       "   13.958886296717955  13.963454485971514  13.968022675225075  \\\n",
       "0            0.268190            0.268130            0.268073   \n",
       "1            0.268190            0.268130            0.268073   \n",
       "2            0.268190            0.268130            0.268073   \n",
       "3            0.268190            0.268130            0.268073   \n",
       "4            0.212166            0.212132            0.212102   \n",
       "\n",
       "   13.972590864478637  13.977159053732196  13.981727242985757  \\\n",
       "0            0.268023            0.267977            0.267937   \n",
       "1            0.268023            0.267977            0.267937   \n",
       "2            0.268023            0.267977            0.267937   \n",
       "3            0.268023            0.267977            0.267937   \n",
       "4            0.212075            0.212050            0.212029   \n",
       "\n",
       "   13.986295432239316  13.990863621492878  13.995431810746439  \\\n",
       "0            0.267903            0.267874            0.267852   \n",
       "1            0.267903            0.267874            0.267852   \n",
       "2            0.267903            0.267874            0.267852   \n",
       "3            0.267903            0.267874            0.267852   \n",
       "4            0.212011            0.211996            0.211984   \n",
       "\n",
       "   13.999999999999998  \n",
       "0            0.267837  \n",
       "1            0.267837  \n",
       "2            0.267837  \n",
       "3            0.267837  \n",
       "4            0.211976  \n",
       "\n",
       "[5 rows x 3001 columns]"
      ]
     },
     "execution_count": 111,
     "metadata": {},
     "output_type": "execute_result"
    }
   ],
   "source": [
    "data_final.insert(0,\"type_numeric\",data_final[\"molecules\"].apply(lambda x: dic_target[x]) ) # Se crea una nueva columna de categorias pero numericas.\n",
    "data_final.drop([\"exoplanet_type\"],axis=1,inplace=True) # Se deja solamente la columna categorica numerica (al final)\n",
    "data_final.drop([\"molecules\"],axis=1,inplace=True) # Se deja solamente la columna categorica numerica (al final)\n",
    "data_final.head()"
   ]
  },
  {
   "cell_type": "code",
   "execution_count": 156,
   "metadata": {},
   "outputs": [
    {
     "data": {
      "text/plain": [
       "((109, 3002), (93, 3002))"
      ]
     },
     "execution_count": 156,
     "metadata": {},
     "output_type": "execute_result"
    }
   ],
   "source": [
    "H2O_present = data_final[data_final.type_numeric == 3]\n",
    "H2O_present['H2O'] = 1\n",
    "H2O_no_present = data_final[data_final.type_numeric != 3][:109]\n",
    "H2O_no_present['H2O'] = 0\n",
    "H2O_no_present.shape, H2O_present.shape"
   ]
  },
  {
   "cell_type": "code",
   "execution_count": 157,
   "metadata": {},
   "outputs": [],
   "source": [
    "X_data_H2O = pd.concat([H2O_no_present[H2O_no_present.columns[2:-2]], H2O_present[H2O_present.columns[2:-2]]])\n",
    "y_data_H2O = pd.concat([H2O_no_present[H2O_no_present.columns[-1]], H2O_present[H2O_present.columns[-1]]])"
   ]
  },
  {
   "cell_type": "code",
   "execution_count": 159,
   "metadata": {},
   "outputs": [],
   "source": [
    "y_one_hot = to_categorical(y_data_H2O, num_classes=2)\n",
    "pd.DataFrame(y_one_hot).to_csv(\"y_data.csv\",index=False)"
   ]
  },
  {
   "cell_type": "code",
   "execution_count": 160,
   "metadata": {},
   "outputs": [
    {
     "name": "stdout",
     "output_type": "stream",
     "text": [
      "(161, 2998)\n",
      "(161, 2)\n",
      "(41, 2998)\n",
      "(41, 2)\n"
     ]
    }
   ],
   "source": [
    "X_train, X_test, y_train, y_test = train_test_split(X_data_H2O, y_one_hot, test_size=0.2, random_state=500) # Realizamos un split de los datos a entrenamiento y prueba. Random state = 27\n",
    "print(X_train.shape)\n",
    "print(y_train.shape)\n",
    "print(X_test.shape)\n",
    "print(y_test.shape)"
   ]
  },
  {
   "cell_type": "code",
   "execution_count": 161,
   "metadata": {},
   "outputs": [],
   "source": [
    "scaler = StandardScaler() # Se construye una funcion para escalar los datos predictores \"X\" tanto para training como testing utilizando un Standard Scaler.\n",
    "X_train_scaled = scaler.fit_transform(X_train) # valor escalado de X_train\n",
    "X_test_scaled = scaler.fit_transform(X_test) # valor escalado de X_test"
   ]
  },
  {
   "cell_type": "code",
   "execution_count": 162,
   "metadata": {},
   "outputs": [
    {
     "name": "stdout",
     "output_type": "stream",
     "text": [
      "0.7200000286102295 validation set accuracy\n",
      "0.6911764740943909 training set accuracy\n"
     ]
    },
    {
     "data": {
      "text/plain": [
       "<matplotlib.legend.Legend at 0x1d5affbae80>"
      ]
     },
     "execution_count": 162,
     "metadata": {},
     "output_type": "execute_result"
    },
    {
     "data": {
      "image/png": "[encoded data removed]",
      "text/plain": [
       "<Figure size 432x288 with 1 Axes>"
      ]
     },
     "metadata": {
      "needs_background": "light"
     },
     "output_type": "display_data"
    }
   ],
   "source": [
    "model = get_model(X_train_scaled[0].shape)\n",
    "compile_model(model)\n",
    "myhistory=model.fit(X_train_scaled,y_train,  epochs=100, batch_size=32, validation_split=0.15, verbose=0)\n",
    "print(myhistory.history['val_accuracy'][-1], \"validation set accuracy\") # Se imprime el accuracy del modelo respecto al set de validacion\n",
    "print(myhistory.history['accuracy'][-1], \"training set accuracy\") # Se imprime el accuracy del modelo respecto al set de entrenamiento\n",
    "\n",
    "xvals=range(100) # Se grafica el accuracy respecto los epochs, vamos que la tendencia indican un buen aprendizaje \n",
    "fig,ax=plt.subplots(1,1)\n",
    "ax.plot(xvals, myhistory.history['val_accuracy'],label='validation set accuracy')\n",
    "ax.plot(xvals, myhistory.history['accuracy'],label='train set accuracy')\n",
    "ax.set_xlabel('epochs')\n",
    "ax.set_ylabel('accuracy')\n",
    "ax.legend()"
   ]
  },
  {
   "cell_type": "code",
   "execution_count": 163,
   "metadata": {},
   "outputs": [
    {
     "name": "stdout",
     "output_type": "stream",
     "text": [
      "2/2 [==============================] - 0s 10ms/step - loss: 0.5587 - accuracy: 0.7073\n",
      "0.707317054271698\n"
     ]
    }
   ],
   "source": [
    "loss, accuracy=model.evaluate(X_test_scaled, y_test) \n",
    "print(accuracy) # Se evalua el resultado del modelo respecto a los datos de prueba."
   ]
  },
  {
   "cell_type": "code",
   "execution_count": 166,
   "metadata": {},
   "outputs": [
    {
     "name": "stdout",
     "output_type": "stream",
     "text": [
      "2/2 [==============================] - 0s 11ms/step\n"
     ]
    }
   ],
   "source": [
    "pred = model.predict(X_test_scaled) # Se predice los datos respecto a los datos de prueba\n",
    "result = results(pred,y_test)"
   ]
  },
  {
   "cell_type": "code",
   "execution_count": 165,
   "metadata": {},
   "outputs": [
    {
     "data": {
      "image/png": "[encoded data removed]",
      "text/plain": [
       "<Figure size 432x288 with 1 Axes>"
      ]
     },
     "metadata": {
      "needs_background": "light"
     },
     "output_type": "display_data"
    }
   ],
   "source": [
    "categorias=[\"No_present\",\"Present\"]\n",
    "cf_matrix = confusion_matrix(result[\"Test values\"],result[\"Prediction values\"])\n",
    "sns.heatmap(cf_matrix,annot=True,cmap='Blues',cbar=False,xticklabels=categorias,yticklabels=categorias)\n",
    "plt.xlabel(\"True label\")\n",
    "plt.ylabel(\"Predicted label\")\n",
    "plt.show()"
   ]
  },
  {
   "cell_type": "code",
   "execution_count": null,
   "metadata": {},
   "outputs": [],
   "source": []
  }
 ],
 "metadata": {
  "kernelspec": {
   "display_name": "Python 3.9.12 ('base')",
   "language": "python",
   "name": "python3"
  },
  "language_info": {
   "codemirror_mode": {
    "name": "ipython",
    "version": 3
   },
   "file_extension": ".py",
   "mimetype": "text/x-python",
   "name": "python",
   "nbconvert_exporter": "python",
   "pygments_lexer": "ipython3",
   "version": "3.9.12"
  },
  "orig_nbformat": 4,
  "vscode": {
   "interpreter": {
    "hash": "49cb93f377a7abe7414b7b0f21fb3017538004a126cf690fb524202736b7fb92"
   }
  }
 },
 "nbformat": 4,
 "nbformat_minor": 2
}
